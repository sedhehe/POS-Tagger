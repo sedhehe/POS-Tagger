{
  "nbformat": 4,
  "nbformat_minor": 0,
  "metadata": {
    "colab": {
      "provenance": []
    },
    "kernelspec": {
      "name": "python3",
      "display_name": "Python 3"
    },
    "language_info": {
      "name": "python"
    }
  },
  "cells": [
    {
      "cell_type": "code",
      "execution_count": null,
      "metadata": {
        "colab": {
          "base_uri": "https://localhost:8080/"
        },
        "id": "dk5c9aoy-zBJ",
        "outputId": "b3585a48-1309-4d85-f59f-1efed236c50d"
      },
      "outputs": [
        {
          "output_type": "stream",
          "name": "stderr",
          "text": [
            "[nltk_data] Downloading package punkt to /root/nltk_data...\n",
            "[nltk_data]   Unzipping tokenizers/punkt.zip.\n",
            "[nltk_data] Downloading package averaged_perceptron_tagger to\n",
            "[nltk_data]     /root/nltk_data...\n",
            "[nltk_data]   Unzipping taggers/averaged_perceptron_tagger.zip.\n"
          ]
        },
        {
          "output_type": "execute_result",
          "data": {
            "text/plain": [
              "True"
            ]
          },
          "metadata": {},
          "execution_count": 1
        }
      ],
      "source": [
        "import nltk\n",
        "from nltk import pos_tag, word_tokenize\n",
        "from nltk.chunk.regexp import RegexpParser\n",
        "nltk.download('punkt')\n",
        "nltk.download('averaged_perceptron_tagger')"
      ]
    },
    {
      "cell_type": "code",
      "source": [
        "grammar = r\"\"\"\n",
        "NP: {<DT>?<JJ>*<NN>} # NP\n",
        "VP: {<VB.*><DT>?<JJ>*<NN|PR.*>*} # VP\n",
        "\"\"\"\n",
        "parser = RegexpParser(grammar)\n",
        "sentence = input(\"Enter a sentence for parsing: \")\n",
        "tokens = word_tokenize(sentence)\n",
        "tagged_tokens = pos_tag(tokens)\n",
        "parsed_tree = parser.parse(tagged_tokens)\n",
        "print(parsed_tree)"
      ],
      "metadata": {
        "id": "q4km7yHG-2HP"
      },
      "execution_count": null,
      "outputs": []
    }
  ]
}